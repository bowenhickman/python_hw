# Open the file and read the prices
file = open("/content/TSLA.txt")
lines = file.readlines()
file.close()

# Convert prices to a list of floats (list comprehension)
prices = [round(float(line.strip()), 2) for line in lines]

# Set variables
buy_price = None
first_buy_price = None
total_profit = 0.0
profits = []

# Loop through prices, starting from 5 to calculate the 5-day moving average
for i in range(5, len(prices)):
    avg_price = sum(prices[i-5:i]) / 5  # 5-day moving average
    current_price = prices[i]
    if current_price < avg_price * 0.98:  # Buy condition
        if buy_price is None:
            buy_price = current_price
            if first_buy_price is None:
                first_buy_price = buy_price
            print("buying at: ", buy_price)
    elif current_price > avg_price * 1.02:  # Sell condition
        if buy_price is not None:
            sell_price = current_price
            profit = sell_price - buy_price
            total_profit += profit
            profits.append(profit)
            print("selling at: ", sell_price)
            print("trade profit: ", round(profit, 2))
            buy_price = None  # Reset buy price after selling

# Final profit percentage calculation
if first_buy_price:
    final_profit_percentage = (total_profit / first_buy_price) * 100
else:
    final_profit_percentage = 0.0

print('==========================')
print("Total profit: ", round(total_profit, 2))
if first_buy_price:
    print("First buy: ", first_buy_price)
    print("% return: ", round(final_profit_percentage, 2),"%")
else:
    print("No trades were executed.")
